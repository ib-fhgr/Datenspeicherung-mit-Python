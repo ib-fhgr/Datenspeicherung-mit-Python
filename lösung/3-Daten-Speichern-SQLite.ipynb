{
 "cells": [
  {
   "cell_type": "markdown",
   "metadata": {},
   "source": [
    "# Daten speichern mit SQLite\n",
    "\n",
    "SQLite ist eine Datenbank-Bibliothek, die für kleinere Anwendungen genutzt werden kann.\n",
    "\n",
    "- SQLite ist kein Datenbankserver, sondern eine Bibliothek, die in das Programm eingebunden wird.\n",
    "- Die Daten werden in einer Datei gespeichert, zum Zugriff kann SQL genutzt werden\n",
    "- Die Datenbank ist sehr leichtgewichtig und eignet sich für kleine Datenmengen\n",
    "- Wir sparen uns die Installation eines Datenbank-Servers, aber als Warnung: Für grössere Anwendungen ist SQLite nicht geeignet\n",
    "- In Python ist SQLite bereits mit dabei, wir müssen nichts installieren\n",
    "\n",
    "Grössere Datenbanken wie PostgreSQL, MySQL oder Oracle werden als Datenbankserver betrieben, d.h. die Datenbank läuft auf einem Server und die Anwendung greift über das Netzwerk auf die Datenbank zu. Viele Features, die man in realen Anwendungen benötigt, sind in SQLite nicht vorhanden, z.B.\n",
    "\n",
    "- Benutzerverwaltung von Datenbanknutzern\n",
    "- Zugriffskontrolle auf Tabellen und Spalten\n",
    "- echte Transaktionen\n",
    "- Skalierbarkeit\n",
    "- Netzwerkzugriff\n",
    "\n",
    "Übrigens: SQLite wird sehr häufig in Smartphones eingesetzt, z.B. in Android oder iOS. Viele Ihrer Daten, die Sie in Apps verwenden, werden in SQLite-Datenbanken gespeichert."
   ]
  },
  {
   "cell_type": "markdown",
   "metadata": {},
   "source": [
    "Erstellen wir eine leere Datenbank mit SQLite:"
   ]
  },
  {
   "cell_type": "code",
   "execution_count": null,
   "metadata": {},
   "outputs": [],
   "source": [
    "# sqlite3 ist ein Modul, welches bereits in Python enthalten ist\n",
    "import sqlite3\n",
    "\n",
    "# Zur Nutzung müssen wir uns mit der Datenbank verbinden\n",
    "conn = sqlite3.connect('example.db')\n",
    "\n",
    "# nach dem Ausführen der Zelle ist die Datenbank erstellt, wir finden sie als Datei im Verzeichnis"
   ]
  },
  {
   "cell_type": "markdown",
   "metadata": {},
   "source": [
    "Datenbanken bestehen aus Tabellen, mit einem SQL-Befehl können wir eine leere Tabelle erstellen:"
   ]
  },
  {
   "cell_type": "code",
   "execution_count": null,
   "metadata": {},
   "outputs": [],
   "source": [
    "# Für SQL-Abfragen benötigen wir einen Cursor\n",
    "cursor = conn.cursor()\n",
    "\n",
    "# Falls noch keine Tabelle existiert, legen wir eine an\n",
    "cursor.execute('''\n",
    "               CREATE TABLE IF NOT EXISTS products (\n",
    "                 id INTEGER PRIMARY KEY, \n",
    "                 name TEXT, \n",
    "                 price DECIMAL\n",
    "               )\n",
    "               ''')"
   ]
  },
  {
   "cell_type": "markdown",
   "metadata": {},
   "source": [
    "Im nächsten Schritt fügen wir Daten in die Tabelle ein - die ID wird dabei automatisch vergeben, da wir die ID-Spalte als Primary Key definiert haben:"
   ]
  },
  {
   "cell_type": "code",
   "execution_count": null,
   "metadata": {},
   "outputs": [],
   "source": [
    "# 5 Produkte einfügen\n",
    "cursor.execute('''\n",
    "                INSERT INTO products (name, price) \n",
    "                VALUES \n",
    "                  ('Apple', 1.99), \n",
    "                  ('Banana', 0.99), \n",
    "                  ('Orange', 1.49), \n",
    "                  ('Pineapple', 2.99), \n",
    "                   ('Pear', 1.99)\n",
    "               ''')\n",
    "\n",
    "# Bei Schreiboperationen müssen wir die Änderungen noch bestätigen\n",
    "conn.commit()"
   ]
  },
  {
   "cell_type": "markdown",
   "metadata": {},
   "source": [
    "Auf der Kommandozeile können wir uns die Datenbank anschauen, dazu dient das Programm `sqlite3` (muss eventuell noch installiert werden):\n",
    "\n",
    "    sqlite3 example.db\n",
    "    sqlite> .schema\n",
    "    sqlite> select * from products;"
   ]
  },
  {
   "cell_type": "code",
   "execution_count": null,
   "metadata": {},
   "outputs": [],
   "source": [
    "# Jetzt können wir SQL-Abfragen ausführen!\n",
    "\n",
    "# Select all rows from the table\n",
    "cursor.execute('SELECT * FROM products')\n",
    "\n",
    "# Print the results\n",
    "for row in cursor:\n",
    "    print(row)\n",
    "\n"
   ]
  },
  {
   "cell_type": "code",
   "execution_count": null,
   "metadata": {},
   "outputs": [],
   "source": [
    "# Produkt per ID holen\n",
    "id = 5\n",
    "cursor.execute('SELECT * FROM products WHERE id = ?', (id,))\n",
    "print(\"Produkt mit id = 5\")\n",
    "print(cursor.fetchone())"
   ]
  },
  {
   "cell_type": "code",
   "execution_count": null,
   "metadata": {},
   "outputs": [],
   "source": [
    "# Suchen Sie Produkte mit einem Preis zwischen 2.00 und 3.00\n",
    "\n",
    "min_price = 2.00\n",
    "max_price = 3.00\n",
    "\n",
    "cursor.execute('SELECT * FROM products WHERE price >= ? AND price <= ?', (min_price, max_price))\n",
    "\n",
    "results = cursor.fetchall()\n",
    "\n",
    "print(\"Produkte mit Preis zwischen 2.00 und 3.00\")\n",
    "print(results)"
   ]
  },
  {
   "cell_type": "code",
   "execution_count": null,
   "metadata": {},
   "outputs": [],
   "source": [
    "# Aktualisieren Sie das Produkt mit id = 5 auf einen Preis von 2.99\n",
    "\n",
    "# update product by id\n",
    "id = 5\n",
    "new_price = 2.99\n",
    "cursor.execute('UPDATE products SET price = ? WHERE id = ?', (new_price, id))\n",
    "\n",
    "# commit nicht vergessen!\n",
    "conn.commit()"
   ]
  },
  {
   "cell_type": "code",
   "execution_count": null,
   "metadata": {},
   "outputs": [],
   "source": [
    "# Am Ende der Arbeit mit der Datenbank müssen wir die Verbindung schließen\n",
    "conn.close()"
   ]
  }
 ],
 "metadata": {
  "kernelspec": {
   "display_name": "base",
   "language": "python",
   "name": "python3"
  },
  "language_info": {
   "codemirror_mode": {
    "name": "ipython",
    "version": 3
   },
   "file_extension": ".py",
   "mimetype": "text/x-python",
   "name": "python",
   "nbconvert_exporter": "python",
   "pygments_lexer": "ipython3",
   "version": "3.9.16"
  }
 },
 "nbformat": 4,
 "nbformat_minor": 2
}
