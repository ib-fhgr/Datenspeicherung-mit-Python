{
 "cells": [
  {
   "cell_type": "markdown",
   "metadata": {},
   "source": [
    "# Daten speichern mit Python - als JSON\n",
    "\n",
    "Erneut gehen wir von unseren Produktdaten aus:"
   ]
  },
  {
   "cell_type": "code",
   "execution_count": null,
   "metadata": {},
   "outputs": [],
   "source": [
    "products = [\n",
    "    {'id': 1,'name': 'Apple', 'price': 1.99},\n",
    "    {'id': 2,'name': 'Banana', 'price': 0.99},\n",
    "    {'id': 3,'name': 'Orange', 'price': 1.49},\n",
    "    {'id': 4,'name': 'Pineapple', 'price': 2.99},\n",
    "    {'id': 5,'name': 'Pear', 'price': 1.99}\n",
    "]"
   ]
  },
  {
   "cell_type": "markdown",
   "metadata": {},
   "source": [
    "Python bietet uns die Möglichkeit, Daten wie Listen oder Dictionaries in JSON-Text umzuwandeln. Das ist praktisch, wenn wir die Daten in einer Datei speichern wollen:"
   ]
  },
  {
   "cell_type": "code",
   "execution_count": null,
   "metadata": {},
   "outputs": [],
   "source": [
    "import json\n",
    "\n",
    "# Daten in eine Zeichenkette umwandeln\n",
    "products_json = json.dumps(products)\n",
    "\n",
    "# unsere Daten sind jetzt eine Zeichenkette!\n",
    "products_json"
   ]
  },
  {
   "cell_type": "markdown",
   "metadata": {},
   "source": [
    "Aus einer Zeichenkette, die Daten im JSON-Format enthält, können wir die Daten auch wieder in Python-Objekte umwandeln:"
   ]
  },
  {
   "cell_type": "code",
   "execution_count": null,
   "metadata": {},
   "outputs": [],
   "source": [
    "# Finden Sie heraus, wie die Daten aus folgendem String wieder in ein Python-Objekt umgewandelt werden können\n",
    "\n",
    "json_str = '[{\"id\": 1,\"name\": \"Apple\", \"price\": 1.99},{\"id\": 2,\"name\": \"Banana\", \"price\": 0.99},{\"id\": 3,\"name\": \"Orange\", \"price\": 1.49}]'\n",
    "\n",
    "data = json.loads(json_str)\n",
    "\n",
    "# geben Sie nur das zweite Produkt aus!\n",
    "print(data[1])\n"
   ]
  },
  {
   "cell_type": "markdown",
   "metadata": {},
   "source": [
    "Natürlich können wir diese Daten auch in einer Datei speichern - dazu werden hier zwei Hilfsfunktionen zum Lesen und Schreiben von Daten implementiert:"
   ]
  },
  {
   "cell_type": "code",
   "execution_count": null,
   "metadata": {},
   "outputs": [],
   "source": [
    "def save_books(books):\n",
    "    with open('books.json', 'w') as f:\n",
    "        # pretty print\n",
    "        json.dump(books, f, indent=4)\n",
    "\n",
    "def load_books():\n",
    "    with open('books.json', 'r') as f:\n",
    "        return json.load(f)"
   ]
  },
  {
   "cell_type": "markdown",
   "metadata": {},
   "source": [
    "Aufgabe: Es sind bereits einige Daten in der Datei books.json gespeichert. Lesen Sie diese Daten mit den Hilfsfunktionen ein, fügen ein Buch hinzu und speichern die Daten wieder."
   ]
  },
  {
   "cell_type": "code",
   "execution_count": null,
   "metadata": {},
   "outputs": [],
   "source": [
    "# Vervollständigen Sie den Code, so dass ein Buch hinzugefügt wird\n",
    "\n",
    "# books einlesen\n",
    "books = load_books()\n",
    "\n",
    "# buch hinzufügen\n",
    "books.append({'id': 6, 'title': 'Python for Dummies', 'author': 'Stefan', 'year': 2020})\n",
    "\n",
    "# speichern\n",
    "save_books(books)"
   ]
  },
  {
   "cell_type": "markdown",
   "metadata": {},
   "source": [
    "## \"Queries\" - Suchanfragen auf diesen Daten\n",
    "\n",
    "Wir haben jetzt eine Möglichkeit, auch komplerere Datenstrukturen zu laden und zu speichern, und benötigen dafür reht wenig Code - daher ist JSON eine sehr beliebte Möglichkeit, Daten zu speichern.\n",
    "\n",
    "Für Anwendungen ist es meist nötig, die Daten zu durchsuchen - z.B. ein Buch per ID abzurufen, oder alle Bücher in einem bestimmten Zeitraum zu finden.\n",
    "\n",
    "Solche Anfragen an den Datenbestand werden in der Regel als \"Queries\" bezeichnet. Mit unseren JSON-Daten haben wir allerdings keine Unterstützung für solche Queries - wir müssen die Daten mit eigenem Code durchsuchen.\n",
    "\n",
    "Zwei Beispiele:"
   ]
  },
  {
   "cell_type": "code",
   "execution_count": null,
   "metadata": {},
   "outputs": [],
   "source": [
    "# Laden eines Buchs per ID\n",
    "id = 3\n",
    "books = load_books()\n",
    "\n",
    "# mit einer Schleife das richtige Buch finden\n",
    "for book in books:\n",
    "    if book['id'] == id:\n",
    "        print(book)\n",
    "        break\n"
   ]
  },
  {
   "cell_type": "code",
   "execution_count": null,
   "metadata": {},
   "outputs": [],
   "source": [
    "# Aufgabe: Schreiben Sie eine Funktion, die ein Buch anhand der ID zurückgibt - Sie können den Code\n",
    "# aus der vorherigen Zelle verwenden\n",
    "def get_book_by_id(id):\n",
    "    books = load_books()\n",
    "    for book in books:\n",
    "        if book['id'] == id:\n",
    "            return book\n",
    "    return None\n",
    "\n",
    "\n",
    "# Testaufruf:\n",
    "print(get_book_by_id(3))"
   ]
  },
  {
   "cell_type": "markdown",
   "metadata": {},
   "source": [
    "Im zweiten Beispiel wollen wir Bücher suchen, die in einem bestimmten Jahresbereich geschrieben wurden: "
   ]
  },
  {
   "cell_type": "code",
   "execution_count": null,
   "metadata": {},
   "outputs": [],
   "source": [
    "min_year = 1900\n",
    "max_year = 1950\n",
    "\n",
    "books = load_books()\n",
    "for book in books:\n",
    "    if min_year <= book[\"year\"] <= max_year:\n",
    "        print(book)\n"
   ]
  },
  {
   "cell_type": "code",
   "execution_count": null,
   "metadata": {},
   "outputs": [],
   "source": [
    "# Aufgabe: Schreiben Sie eine Funktion, die alle Bücher in einem Jahresbereich zurückgibt\n",
    "\n",
    "def get_books_by_year(min_year, max_year):\n",
    "    books = load_books()\n",
    "    result = []\n",
    "    for book in books:\n",
    "        if min_year <= book[\"year\"] <= max_year:\n",
    "            result.append(book)\n",
    "    \n",
    "    return result\n",
    "\n",
    "# Test\n",
    "get_books_by_year(1900, 1950)"
   ]
  },
  {
   "cell_type": "markdown",
   "metadata": {},
   "source": [
    "Fazit: Die Speicherung von Daten in JSON-Dateien ist sehr einfach, aber wir müssen viele Dinge selbst programmieren, und uns um die Details kümmern. Je komplexer die Daten werden, desto schwieriger wird es, die Daten zu durchsuchen, für einfache Anwendungen können Sie diese Methode aber in Ihrem Projekt verwenden.\n",
    "\n",
    "In den meisten Fällen wird man für komplexe Anwendungen eine Datenbank verwenden, die die Daten speichert und auch die Queries unterstützt. In der dritten Notebook soll dies am Beispiel von SQLite gezeigt werden."
   ]
  }
 ],
 "metadata": {
  "kernelspec": {
   "display_name": "base",
   "language": "python",
   "name": "python3"
  },
  "language_info": {
   "codemirror_mode": {
    "name": "ipython",
    "version": 3
   },
   "file_extension": ".py",
   "mimetype": "text/x-python",
   "name": "python",
   "nbconvert_exporter": "python",
   "pygments_lexer": "ipython3",
   "version": "3.9.16"
  }
 },
 "nbformat": 4,
 "nbformat_minor": 2
}
