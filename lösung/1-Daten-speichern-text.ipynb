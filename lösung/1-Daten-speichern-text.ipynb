{
 "cells": [
  {
   "cell_type": "markdown",
   "metadata": {},
   "source": [
    "# Daten speichern mit Python - als reine Textdatei\n",
    "Im folgenden gehen wir davon aus, dass wir einige strukturierte Daten gegeben haben, die wir speichern und lesen wollen - wir werden in den folgenden Beispielen immer mit folgenden Daten arbeiten:\n"
   ]
  },
  {
   "cell_type": "code",
   "execution_count": null,
   "metadata": {},
   "outputs": [],
   "source": [
    "products = [\n",
    "    {'id': 1,'name': 'Apple', 'price': 1.99},\n",
    "    {'id': 2,'name': 'Banana', 'price': 0.99},\n",
    "    {'id': 3,'name': 'Orange', 'price': 1.49},\n",
    "    {'id': 4,'name': 'Pineapple', 'price': 2.99},\n",
    "    {'id': 5,'name': 'Pear', 'price': 1.99}\n",
    "]"
   ]
  },
  {
   "cell_type": "markdown",
   "metadata": {},
   "source": [
    "Ohne weitere Unterstützung könnten wir das Lesen und Schreiben dieser Daten von Hand mit Dateien realisieren - diese Methode wird vorab einmal gezeigt, damit wir sehen, wie Dateien zum Lesen und Schreiben geöffnet werden können, aber diese Art des Speicherns von Daten ist sehr aufwändig und für Ihre Projekte nicht zu empfehlen."
   ]
  },
  {
   "cell_type": "code",
   "execution_count": null,
   "metadata": {},
   "outputs": [],
   "source": [
    "# Schreiben der Daten in eine Datei:\n",
    "\n",
    "# Öffnen der Datei im Schreibmodus (w)\n",
    "with open('products.txt', 'w') as file:\n",
    "    # Schreiben der Daten in die Datei\n",
    "    # Wir müssen die Daten in einen String umwandeln, damit wir sie schreiben können\n",
    "    # an dieser Stelle denken wir uns sozusagen unser eigenes Dateiformat aus\n",
    "    \n",
    "    for product in products:\n",
    "        file.write(f\"{product['id']};{product['name']};{product['price']}\\n\")\n",
    "\n"
   ]
  },
  {
   "cell_type": "markdown",
   "metadata": {},
   "source": [
    "Nach dem Ausführen der vorherigen Zelle können Sie die Datei `products.txt` im Editor öffnen und betrachten."
   ]
  },
  {
   "cell_type": "code",
   "execution_count": null,
   "metadata": {},
   "outputs": [],
   "source": [
    "# Zum Lesen der Datei müssen wir unser Dateiformat kennen und die Daten entsprechend\n",
    "# einlesen und verarbeiten\n",
    "\n",
    "products_from_file = []\n",
    "\n",
    "# Öffnen der Datei im Lesemodus\n",
    "with open('products.txt', 'r') as file:\n",
    "    # Lesen der Daten aus der Datei\n",
    "    \n",
    "    # Dabei müssen wir die Daten wieder die einzelnen Datenfelder aufteilen\n",
    "    # und in die entsprechenden Datentypen umwandeln\n",
    "    \n",
    "\n",
    "    for line in file:\n",
    "        # Entfernen des Zeilenumbruchs\n",
    "        line = line.strip()\n",
    "\n",
    "        # Aufteilen der Daten anhand des Semikolons\n",
    "        data = line.split(';')\n",
    "\n",
    "        # Erstellen eines neuen Produkts\n",
    "        product = {\n",
    "            'id': int(data[0]),\n",
    "            'name': data[1],\n",
    "            'price': float(data[2])\n",
    "        }\n",
    "        \n",
    "        # Hinzufügen des Produkts zur Liste\n",
    "        products_from_file.append(product)\n",
    "\n",
    "# Ausgabe der Produkte\n",
    "print(products_from_file)\n",
    "        \n"
   ]
  },
  {
   "cell_type": "markdown",
   "metadata": {},
   "source": [
    "Diese Art der Datenspeicherung ist also sehr aufwändig und fehleranfällig - zum Glück gibt es in Python einige Module, die uns das Speichern und Lesen von Daten erleichtern."
   ]
  }
 ],
 "metadata": {
  "kernelspec": {
   "display_name": "base",
   "language": "python",
   "name": "python3"
  },
  "language_info": {
   "codemirror_mode": {
    "name": "ipython",
    "version": 3
   },
   "file_extension": ".py",
   "mimetype": "text/x-python",
   "name": "python",
   "nbconvert_exporter": "python",
   "pygments_lexer": "ipython3",
   "version": "3.9.16"
  }
 },
 "nbformat": 4,
 "nbformat_minor": 2
}
